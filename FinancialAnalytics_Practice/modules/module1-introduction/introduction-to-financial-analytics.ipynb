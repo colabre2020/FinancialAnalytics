{
 "cells": [
  {
   "cell_type": "markdown",
   "id": "f7f44eb3",
   "metadata": {},
   "source": [
    "# Module 1: Introduction to Financial Analytics\n",
    "\n",
    "This notebook covers basic financial data manipulation, visualization, and summary statistics, including a real-time example using Yahoo Finance data."
   ]
  },
  {
   "cell_type": "code",
   "execution_count": null,
   "id": "040f8f89",
   "metadata": {},
   "outputs": [],
   "source": [
    "import pandas as pd\n",
    "import numpy as np\n",
    "import matplotlib.pyplot as plt\n",
    "import seaborn as sns\n",
    "\n",
    "# For real-time data\n",
    "try:\n",
    "    import yfinance as yf\n",
    "except ImportError:\n",
    "    !pip install yfinance\n",
    "    import yfinance as yf\n",
    "\n",
    "sns.set(style=\"whitegrid\")"
   ]
  },
  {
   "cell_type": "code",
   "execution_count": null,
   "id": "f695a9bd",
   "metadata": {},
   "outputs": [],
   "source": [
    "# Create a sample financial dataset\n",
    "sample_data = pd.DataFrame({\n",
    "    'Date': pd.date_range(start='2021-01-01', periods=10, freq='D'),\n",
    "    'Revenue': [100, 150, 200, 250, 300, 350, 400, 450, 500, 550],\n",
    "    'Expenses': [80, 120, 180, 220, 260, 300, 340, 380, 420, 460]\n",
    "})\n",
    "sample_data['Profit'] = sample_data['Revenue'] - sample_data['Expenses']\n",
    "sample_data"
   ]
  },
  {
   "cell_type": "code",
   "execution_count": null,
   "id": "a01677b6",
   "metadata": {},
   "outputs": [],
   "source": [
    "plt.figure(figsize=(10, 5))\n",
    "plt.plot(sample_data['Date'], sample_data['Revenue'], label='Revenue', marker='o')\n",
    "plt.plot(sample_data['Date'], sample_data['Expenses'], label='Expenses', marker='o')\n",
    "plt.title('Revenue and Expenses Over Time')\n",
    "plt.xlabel('Date')\n",
    "plt.ylabel('Amount')\n",
    "plt.legend()\n",
    "plt.show()"
   ]
  },
  {
   "cell_type": "code",
   "execution_count": null,
   "id": "f7546a59",
   "metadata": {},
   "outputs": [],
   "source": [
    "summary_stats = sample_data[['Revenue', 'Expenses', 'Profit']].agg(['sum', 'mean'])\n",
    "summary_stats"
   ]
  },
  {
   "cell_type": "markdown",
   "id": "d55a885f",
   "metadata": {},
   "source": [
    "## Real-Time Example: Analyzing Real Stock Data\n",
    "\n",
    "Let's fetch real stock data using Yahoo Finance and perform similar analysis."
   ]
  },
  {
   "cell_type": "code",
   "execution_count": null,
   "id": "c94f4eea",
   "metadata": {},
   "outputs": [],
   "source": [
    "# Download historical data for Apple (AAPL)\n",
    "data = yf.download('AAPL', start='2023-01-01', end='2023-03-01')\n",
    "data = data.reset_index()\n",
    "data = data[['Date', 'Close', 'Open', 'High', 'Low', 'Volume']]\n",
    "data = data.rename(columns={'Close': 'Price'})\n",
    "data['Daily Return'] = data['Price'].pct_change()\n",
    "data.head()"
   ]
  },
  {
   "cell_type": "code",
   "execution_count": null,
   "id": "14d10ff6",
   "metadata": {},
   "outputs": [],
   "source": [
    "plt.figure(figsize=(10, 5))\n",
    "plt.plot(data['Date'], data['Price'], label='AAPL Price')\n",
    "plt.title('AAPL Stock Price Over Time')\n",
    "plt.xlabel('Date')\n",
    "plt.ylabel('Price (USD)')\n",
    "plt.legend()\n",
    "plt.show()\n",
    "\n",
    "plt.figure(figsize=(10, 4))\n",
    "plt.plot(data['Date'], data['Daily Return'], label='Daily Return')\n",
    "plt.title('AAPL Daily Returns')\n",
    "plt.xlabel('Date')\n",
    "plt.ylabel('Return')\n",
    "plt.legend()\n",
    "plt.show()"
   ]
  },
  {
   "cell_type": "code",
   "execution_count": null,
   "id": "c482ec48",
   "metadata": {},
   "outputs": [],
   "source": [
    "real_summary = data[['Price', 'Daily Return']].agg(['sum', 'mean', 'std', 'min', 'max'])\n",
    "real_summary"
   ]
  }
 ],
 "metadata": {
  "language_info": {
   "name": "python"
  }
 },
 "nbformat": 4,
 "nbformat_minor": 5
}
