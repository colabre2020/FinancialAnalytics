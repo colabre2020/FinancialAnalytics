{
 "cells": [
  {
   "cell_type": "markdown",
   "id": "7b269980",
   "metadata": {},
   "source": [
    "# Module 5: Forecasting\n",
    "\n",
    "This notebook demonstrates forecasting financial data using ARIMA and Exponential Smoothing (ETS) models, with both sample and real financial data."
   ]
  },
  {
   "cell_type": "code",
   "execution_count": null,
   "id": "f0bd3c6e",
   "metadata": {},
   "outputs": [],
   "source": [
    "import pandas as pd\n",
    "import numpy as np\n",
    "import matplotlib.pyplot as plt\n",
    "import yfinance as yf\n",
    "from statsmodels.tsa.arima.model import ARIMA\n",
    "from statsmodels.tsa.holtwinters import ExponentialSmoothing"
   ]
  },
  {
   "cell_type": "code",
   "execution_count": null,
   "id": "3c8bc229",
   "metadata": {},
   "outputs": [],
   "source": [
    "np.random.seed(123)\n",
    "dates = pd.date_range(start='2020-01-01', periods=100, freq='M')\n",
    "data = pd.Series(np.random.normal(100, 10, size=len(dates)), index=dates)\n",
    "plt.figure(figsize=(10, 5))\n",
    "plt.plot(data)\n",
    "plt.title('Sample Financial Data')\n",
    "plt.xlabel('Date')\n",
    "plt.ylabel('Value')\n",
    "plt.show()"
   ]
  },
  {
   "cell_type": "code",
   "execution_count": null,
   "id": "e38fed98",
   "metadata": {},
   "outputs": [],
   "source": [
    "# ARIMA\n",
    "arima_model = ARIMA(data, order=(1,1,1))\n",
    "arima_fit = arima_model.fit()\n",
    "arima_forecast = arima_fit.forecast(steps=12)\n",
    "\n",
    "# ETS\n",
    "ets_model = ExponentialSmoothing(data, trend='add', seasonal=None)\n",
    "ets_fit = nets_model.fit()\n",
    "ets_forecast = ets_fit.forecast(steps=12)\n",
    "\n",
    "plt.figure(figsize=(10, 5))\n",
    "plt.plot(data, label='Original')\n",
    "plt.plot(pd.date_range(data.index[-1], periods=13, freq='M')[1:], arima_forecast, label='ARIMA Forecast', color='red')\n",
    "plt.plot(pd.date_range(data.index[-1], periods=13, freq='M')[1:], nets_forecast, label='ETS Forecast', color='green')\n",
    "plt.title('Forecasts on Sample Data')\n",
    "plt.xlabel('Date')\n",
    "plt.ylabel('Value')\n",
    "plt.legend()\n",
    "plt.show()"
   ]
  },
  {
   "cell_type": "markdown",
   "id": "25ac3a88",
   "metadata": {},
   "source": [
    "## Real-Time Example: Forecasting Real Stock Prices\n",
    "\n",
    "Let's fetch real stock data and forecast future prices using ARIMA and ETS models."
   ]
  },
  {
   "cell_type": "code",
   "execution_count": null,
   "id": "b4264a4b",
   "metadata": {},
   "outputs": [],
   "source": [
    "stock = yf.download('TSLA', start='2022-01-01', end='2023-01-01')\n",
    "real_ts = pd.Series(stock['Close'].values, index=stock.index)\n",
    "\n",
    "# ARIMA\n",
    "arima_model_real = ARIMA(real_ts, order=(1,1,1))\n",
    "arima_fit_real = arima_model_real.fit()\n",
    "arima_forecast_real = arima_fit_real.forecast(steps=30)\n",
    "\n",
    "# ETS\n",
    "ets_model_real = ExponentialSmoothing(real_ts, trend='add', seasonal=None)\n",
    "ets_fit_real = ets_model_real.fit()\n",
    "ets_forecast_real = ets_fit_real.forecast(steps=30)\n",
    "\n",
    "plt.figure(figsize=(10, 5))\n",
    "plt.plot(real_ts, label='TSLA Close Price')\n",
    "plt.plot(pd.date_range(real_ts.index[-1], periods=31, freq='D')[1:], arima_forecast_real, label='ARIMA Forecast', color='red')\n",
    "plt.plot(pd.date_range(real_ts.index[-1], periods=31, freq='D')[1:], nets_forecast_real, label='ETS Forecast', color='green')\n",
    "plt.title('TSLA Price Forecasts')\n",
    "plt.xlabel('Date')\n",
    "plt.ylabel('Price (USD)')\n",
    "plt.legend()\n",
    "plt.show()"
   ]
  }
 ],
 "metadata": {
  "language_info": {
   "name": "python"
  }
 },
 "nbformat": 4,
 "nbformat_minor": 5
}
