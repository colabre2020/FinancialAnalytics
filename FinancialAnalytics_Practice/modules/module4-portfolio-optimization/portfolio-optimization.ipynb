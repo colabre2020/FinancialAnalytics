{
 "cells": [
  {
   "cell_type": "markdown",
   "id": "264667d9",
   "metadata": {},
   "source": [
    "# Module 4: Portfolio Optimization\n",
    "\n",
    "This notebook demonstrates portfolio optimization using the Markowitz model, with both sample and real financial data."
   ]
  },
  {
   "cell_type": "code",
   "execution_count": null,
   "id": "16c0c1f0",
   "metadata": {},
   "outputs": [],
   "source": [
    "import pandas as pd\n",
    "import numpy as np\n",
    "import matplotlib.pyplot as plt\n",
    "import yfinance as yf\n",
    "from scipy.optimize import minimize"
   ]
  },
  {
   "cell_type": "code",
   "execution_count": null,
   "id": "b984ffd2",
   "metadata": {},
   "outputs": [],
   "source": [
    "assets = ['AAPL', 'MSFT', 'GOOGL', 'AMZN']\n",
    "data = yf.download(assets, start='2022-01-01', end='2023-01-01')['Close']\n",
    "returns = data.pct_change().dropna()\n",
    "returns.head()"
   ]
  },
  {
   "cell_type": "code",
   "execution_count": null,
   "id": "d0197341",
   "metadata": {},
   "outputs": [],
   "source": [
    "def portfolio_performance(weights, mean_returns, cov_matrix):\n",
    "    returns = np.sum(mean_returns * weights) * 252\n",
    "    std = np.sqrt(np.dot(weights.T, np.dot(cov_matrix, weights))) * np.sqrt(252)\n",
    "    return returns, std\n",
    "\n",
    "def negative_sharpe_ratio(weights, mean_returns, cov_matrix, risk_free_rate=0.01):\n",
    "    p_returns, p_std = portfolio_performance(weights, mean_returns, cov_matrix)\n",
    "    return -(p_returns - risk_free_rate) / p_std"
   ]
  },
  {
   "cell_type": "code",
   "execution_count": null,
   "id": "216967b8",
   "metadata": {},
   "outputs": [],
   "source": [
    "mean_returns = returns.mean()\n",
    "cov_matrix = returns.cov()\n",
    "num_assets = len(assets)\n",
    "args = (mean_returns, cov_matrix)\n",
    "constraints = ({'type': 'eq', 'fun': lambda x: np.sum(x) - 1})\n",
    "bounds = tuple((0, 1) for _ in range(num_assets))\n",
    "result = minimize(negative_sharpe_ratio, num_assets * [1. / num_assets,], args=args,\n",
    "                  method='SLSQP', bounds=bounds, constraints=constraints)\n",
    "opt_weights = result.x\n",
    "opt_weights"
   ]
  },
  {
   "cell_type": "code",
   "execution_count": null,
   "id": "5f14281d",
   "metadata": {},
   "outputs": [],
   "source": [
    "# Display optimized weights\n",
    "for asset, weight in zip(assets, opt_weights):\n",
    "    print(f\"{asset}: {weight:.2%}\")\n",
    "\n",
    "# Plot efficient frontier (simulation)\n",
    "results = np.zeros((3, 10000))\n",
    "for i in range(10000):\n",
    "    weights = np.random.dirichlet(np.ones(num_assets), size=1)[0]\n",
    "    p_ret, p_std = portfolio_performance(weights, mean_returns, cov_matrix)\n",
    "    results[0,i] = p_std\n",
    "    results[1,i] = p_ret\n",
    "    results[2,i] = (p_ret - 0.01) / p_std\n",
    "plt.figure(figsize=(10, 6))\n",
    "plt.scatter(results[0,:], results[1,:], c=results[2,:], cmap='viridis', marker='o')\n",
    "plt.xlabel('Volatility (Std Dev)')\n",
    "plt.ylabel('Expected Return')\n",
    "plt.title('Efficient Frontier')\n",
    "plt.colorbar(label='Sharpe Ratio')\n",
    "plt.show()"
   ]
  }
 ],
 "metadata": {
  "language_info": {
   "name": "python"
  }
 },
 "nbformat": 4,
 "nbformat_minor": 5
}
