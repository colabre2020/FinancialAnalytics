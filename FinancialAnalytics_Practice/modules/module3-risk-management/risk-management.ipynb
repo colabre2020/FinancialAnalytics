{
 "cells": [
  {
   "cell_type": "markdown",
   "id": "de606e07",
   "metadata": {},
   "source": [
    "# Module 3: Risk Management\n",
    "\n",
    "This notebook demonstrates risk management concepts, including Value at Risk (VaR) and portfolio risk simulation, using both sample and real financial data."
   ]
  },
  {
   "cell_type": "code",
   "execution_count": null,
   "id": "ea35cbfe",
   "metadata": {},
   "outputs": [],
   "source": [
    "import pandas as pd\n",
    "import numpy as np\n",
    "import matplotlib.pyplot as plt\n",
    "import seaborn as sns\n",
    "import yfinance as yf\n",
    "\n",
    "sns.set(style=\"whitegrid\")"
   ]
  },
  {
   "cell_type": "code",
   "execution_count": null,
   "id": "a3aa79b3",
   "metadata": {},
   "outputs": [],
   "source": [
    "np.random.seed(123)\n",
    "returns = np.random.normal(loc=0.0005, scale=0.01, size=1000)\n",
    "cumulative_returns = np.cumprod(1 + returns) - 1\n",
    "\n",
    "plt.figure(figsize=(10, 5))\n",
    "plt.plot(cumulative_returns, color='blue')\n",
    "plt.title('Cumulative Returns of Simulated Asset')\n",
    "plt.xlabel('Days')\n",
    "plt.ylabel('Cumulative Returns')\n",
    "plt.show()"
   ]
  },
  {
   "cell_type": "code",
   "execution_count": null,
   "id": "1126531d",
   "metadata": {},
   "outputs": [],
   "source": [
    "VaR_95 = np.percentile(returns, 5)\n",
    "VaR_99 = np.percentile(returns, 1)\n",
    "print(f\"Value at Risk (95% confidence): {VaR_95:.4f}\")\n",
    "print(f\"Value at Risk (99% confidence): {VaR_99:.4f}\")"
   ]
  },
  {
   "cell_type": "code",
   "execution_count": null,
   "id": "7a8a43c3",
   "metadata": {},
   "outputs": [],
   "source": [
    "# Simulate returns for two assets\n",
    "returns_matrix = np.random.normal(loc=0.0005, scale=0.01, size=(1000, 2))\n",
    "weights = np.array([0.6, 0.4])\n",
    "portfolio_returns = returns_matrix @ weights\n",
    "portfolio_VaR_95 = np.percentile(portfolio_returns, 5)\n",
    "print(f\"Portfolio Value at Risk (95% confidence): {portfolio_VaR_95:.4f}\")"
   ]
  },
  {
   "cell_type": "markdown",
   "id": "65d0bc1a",
   "metadata": {},
   "source": [
    "## Real-Time Example: Value at Risk for Real Stock Data\n",
    "\n",
    "Let's fetch real stock data and calculate Value at Risk (VaR) for daily returns."
   ]
  },
  {
   "cell_type": "code",
   "execution_count": null,
   "id": "079150a7",
   "metadata": {},
   "outputs": [],
   "source": [
    "data = yf.download('GOOGL', start='2022-01-01', end='2023-01-01')\n",
    "data['Daily Return'] = data['Close'].pct_change().dropna()\n",
    "real_VaR_95 = np.percentile(data['Daily Return'].dropna(), 5)\n",
    "real_VaR_99 = np.percentile(data['Daily Return'].dropna(), 1)\n",
    "print(f\"GOOGL Value at Risk (95% confidence): {real_VaR_95:.4f}\")\n",
    "print(f\"GOOGL Value at Risk (99% confidence): {real_VaR_99:.4f}\")\n",
    "\n",
    "plt.figure(figsize=(10, 5))\n",
    "plt.hist(data['Daily Return'].dropna(), bins=50, color='skyblue', edgecolor='black')\n",
    "plt.title('GOOGL Daily Returns Distribution')\n",
    "plt.xlabel('Daily Return')\n",
    "plt.ylabel('Frequency')\n",
    "plt.show()"
   ]
  },
  {
   "cell_type": "markdown",
   "id": "bc5a1009",
   "metadata": {},
   "source": [
    "## Advanced Scenario: Conditional Value at Risk (CVaR)\n",
    "\n",
    "CVaR (also known as Expected Shortfall) measures the expected loss in the worst-case (tail) scenarios beyond the VaR threshold."
   ]
  },
  {
   "cell_type": "code",
   "execution_count": null,
   "id": "62c38f0b",
   "metadata": {},
   "outputs": [],
   "source": [
    "# CVaR for simulated returns\n",
    "alpha = 0.05\n",
    "VaR_level = np.percentile(returns, 100*alpha)\n",
    "CVaR = returns[returns <= VaR_level].mean()\n",
    "print(f\"Simulated Asset CVaR (95%): {CVaR:.4f}\")\n",
    "\n",
    "# CVaR for real returns\n",
    "daily_returns_real = data['Daily Return'].dropna()\n",
    "VaR_level_real = np.percentile(daily_returns_real, 100*alpha)\n",
    "CVaR_real = daily_returns_real[daily_returns_real <= VaR_level_real].mean()\n",
    "print(f\"GOOGL CVaR (95%): {CVaR_real:.4f}\")"
   ]
  },
  {
   "cell_type": "markdown",
   "id": "8c22ebac",
   "metadata": {},
   "source": [
    "## Advanced Scenario: Monte Carlo Simulation for Portfolio Risk\n",
    "\n",
    "Simulate thousands of possible future portfolio returns to estimate the distribution of outcomes and risk."
   ]
  },
  {
   "cell_type": "code",
   "execution_count": null,
   "id": "c3cb6725",
   "metadata": {},
   "outputs": [],
   "source": [
    "# Monte Carlo simulation for a two-asset portfolio\n",
    "num_simulations = 10000\n",
    "simulated_portfolio_returns = []\n",
    "for _ in range(num_simulations):\n",
    "    sim_returns = np.random.normal(loc=0.0005, scale=0.01, size=(252, 2))\n",
    "    sim_portfolio = sim_returns @ weights\n",
    "    simulated_portfolio_returns.append(sim_portfolio.sum())\n",
    "simulated_portfolio_returns = np.array(simulated_portfolio_returns)\n",
    "\n",
    "plt.figure(figsize=(10, 5))\n",
    "plt.hist(simulated_portfolio_returns, bins=50, color='orange', edgecolor='black')\n",
    "plt.title('Monte Carlo Simulated Portfolio Returns (1 Year)')\n",
    "plt.xlabel('Total Return')\n",
    "plt.ylabel('Frequency')\n",
    "plt.show()\n",
    "\n",
    "# Estimate probability of loss\n",
    "default_prob = np.mean(simulated_portfolio_returns < 0)\n",
    "print(f\"Probability of annual loss: {default_prob:.2%}\")"
   ]
  },
  {
   "cell_type": "markdown",
   "id": "3a850851",
   "metadata": {},
   "source": [
    "## Advanced Scenario: Stress Testing\n",
    "\n",
    "Stress testing evaluates portfolio performance under extreme but plausible market conditions."
   ]
  },
  {
   "cell_type": "code",
   "execution_count": null,
   "id": "a1c8dcf5",
   "metadata": {},
   "outputs": [],
   "source": [
    "# Stress test: apply a -5% market shock to all returns for a week\n",
    "shock = -0.05\n",
    "shocked_returns = daily_returns_real.copy()\n",
    "shocked_returns.iloc[:5] += shock\n",
    "\n",
    "plt.figure(figsize=(10, 5))\n",
    "plt.plot(daily_returns_real.index, daily_returns_real, label='Original Returns')\n",
    "plt.plot(shocked_returns.index, shocked_returns, label='Shocked Returns', linestyle='--')\n",
    "plt.title('Stress Test: Market Shock on GOOGL Returns')\n",
    "plt.xlabel('Date')\n",
    "plt.ylabel('Daily Return')\n",
    "plt.legend()\n",
    "plt.show()\n",
    "\n",
    "# Compare mean returns before and after shock\n",
    "print(f\"Mean return before shock: {daily_returns_real.mean():.4f}\")\n",
    "print(f\"Mean return after shock: {shocked_returns.mean():.4f}\")"
   ]
  }
 ],
 "metadata": {
  "language_info": {
   "name": "python"
  }
 },
 "nbformat": 4,
 "nbformat_minor": 5
}
