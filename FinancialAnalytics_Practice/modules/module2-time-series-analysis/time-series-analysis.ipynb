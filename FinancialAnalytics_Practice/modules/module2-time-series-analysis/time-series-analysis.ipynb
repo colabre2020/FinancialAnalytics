{
 "cells": [
  {
   "cell_type": "markdown",
   "id": "7b7db16d",
   "metadata": {},
   "source": [
    "# Module 2: Time Series Analysis\n",
    "\n",
    "This notebook demonstrates time series analysis and forecasting using both sample and real financial data."
   ]
  },
  {
   "cell_type": "code",
   "execution_count": null,
   "id": "bce1f8eb",
   "metadata": {},
   "outputs": [],
   "source": [
    "import pandas as pd\n",
    "import numpy as np\n",
    "import matplotlib.pyplot as plt\n",
    "import seaborn as sns\n",
    "from statsmodels.tsa.seasonal import seasonal_decompose\n",
    "from statsmodels.tsa.arima.model import ARIMA\n",
    "import yfinance as yf\n",
    "\n",
    "sns.set(style=\"whitegrid\")"
   ]
  },
  {
   "cell_type": "code",
   "execution_count": null,
   "id": "a33b6930",
   "metadata": {},
   "outputs": [],
   "source": [
    "# Generate sample time series data\n",
    "np.random.seed(123)\n",
    "dates = pd.date_range(start='2020-01-01', periods=120, freq='M')\n",
    "values = np.random.normal(loc=100, scale=10, size=len(dates))\n",
    "sample_ts = pd.Series(values, index=dates)\n",
    "\n",
    "plt.figure(figsize=(10, 5))\n",
    "plt.plot(sample_ts, label='Sample Time Series')\n",
    "plt.title('Sample Time Series Data')\n",
    "plt.xlabel('Date')\n",
    "plt.ylabel('Value')\n",
    "plt.legend()\n",
    "plt.show()"
   ]
  },
  {
   "cell_type": "code",
   "execution_count": null,
   "id": "247b3387",
   "metadata": {},
   "outputs": [],
   "source": [
    "decomposition = seasonal_decompose(sample_ts, model='additive', period=12)\n",
    "decomposition.plot()\n",
    "plt.show()"
   ]
  },
  {
   "cell_type": "code",
   "execution_count": null,
   "id": "2ebdc1f2",
   "metadata": {},
   "outputs": [],
   "source": [
    "model = ARIMA(sample_ts, order=(1,1,1))\n",
    "model_fit = model.fit()\n",
    "forecast = model_fit.forecast(steps=12)\n",
    "\n",
    "plt.figure(figsize=(10, 5))\n",
    "plt.plot(sample_ts, label='Original')\n",
    "plt.plot(forecast.index, forecast, label='Forecast', color='red')\n",
    "plt.title('ARIMA Forecast on Sample Data')\n",
    "plt.xlabel('Date')\n",
    "plt.ylabel('Value')\n",
    "plt.legend()\n",
    "plt.show()"
   ]
  },
  {
   "cell_type": "markdown",
   "id": "781eb282",
   "metadata": {},
   "source": [
    "## Real-Time Example: Stock Price Time Series Analysis\n",
    "\n",
    "Let's analyze and forecast real stock price data using Yahoo Finance."
   ]
  },
  {
   "cell_type": "code",
   "execution_count": null,
   "id": "9312b411",
   "metadata": {},
   "outputs": [],
   "source": [
    "stock = yf.download('MSFT', start='2022-01-01', end='2023-01-01')\n",
    "stock = stock.reset_index()\n",
    "plt.figure(figsize=(10, 5))\n",
    "plt.plot(stock['Date'], stock['Close'], label='MSFT Close Price')\n",
    "plt.title('MSFT Stock Price Over Time')\n",
    "plt.xlabel('Date')\n",
    "plt.ylabel('Price (USD)')\n",
    "plt.legend()\n",
    "plt.show()"
   ]
  },
  {
   "cell_type": "code",
   "execution_count": null,
   "id": "f4c27666",
   "metadata": {},
   "outputs": [],
   "source": [
    "real_ts = pd.Series(stock['Close'].values, index=stock['Date'])\n",
    "decomp = seasonal_decompose(real_ts, model='additive', period=30)\n",
    "decomp.plot()\n",
    "plt.show()\n",
    "\n",
    "arima_model = ARIMA(real_ts, order=(1,1,1))\n",
    "arima_fit = arima_model.fit()\n",
    "real_forecast = arima_fit.forecast(steps=30)\n",
    "\n",
    "plt.figure(figsize=(10, 5))\n",
    "plt.plot(real_ts, label='MSFT Close Price')\n",
    "plt.plot(pd.date_range(real_ts.index[-1], periods=31, freq='D')[1:], real_forecast, label='Forecast', color='red')\n",
    "plt.title('ARIMA Forecast for MSFT')\n",
    "plt.xlabel('Date')\n",
    "plt.ylabel('Price (USD)')\n",
    "plt.legend()\n",
    "plt.show()"
   ]
  },
  {
   "cell_type": "markdown",
   "id": "bb454898",
   "metadata": {},
   "source": [
    "## Holt-Winters (Exponential Smoothing) Forecast on Sample Data\n",
    "\n",
    "Let's use the Holt-Winters method to forecast the sample time series."
   ]
  },
  {
   "cell_type": "code",
   "execution_count": null,
   "id": "6adb16f2",
   "metadata": {},
   "outputs": [],
   "source": [
    "from statsmodels.tsa.holtwinters import ExponentialSmoothing\n",
    "\n",
    "hw_model = ExponentialSmoothing(sample_ts, trend='add', seasonal='add', seasonal_periods=12)\n",
    "hw_fit = hw_model.fit()\n",
    "hw_forecast = hw_fit.forecast(12)\n",
    "\n",
    "plt.figure(figsize=(10, 5))\n",
    "plt.plot(sample_ts, label='Original')\n",
    "plt.plot(hw_forecast.index, hw_forecast, label='Holt-Winters Forecast', color='green')\n",
    "plt.title('Holt-Winters Forecast on Sample Data')\n",
    "plt.xlabel('Date')\n",
    "plt.ylabel('Value')\n",
    "plt.legend()\n",
    "plt.show()"
   ]
  },
  {
   "cell_type": "markdown",
   "id": "f5faced1",
   "metadata": {},
   "source": [
    "## Holt-Winters (Exponential Smoothing) Forecast on Real Stock Data\n",
    "\n",
    "Now let's apply the Holt-Winters method to the real stock price data."
   ]
  },
  {
   "cell_type": "code",
   "execution_count": null,
   "id": "1df1d7ab",
   "metadata": {},
   "outputs": [],
   "source": [
    "hw_model_real = ExponentialSmoothing(real_ts, trend='add', seasonal='add', seasonal_periods=30)\n",
    "hw_fit_real = hw_model_real.fit()\n",
    "hw_forecast_real = hw_fit_real.forecast(30)\n",
    "\n",
    "plt.figure(figsize=(10, 5))\n",
    "plt.plot(real_ts, label='MSFT Close Price')\n",
    "plt.plot(pd.date_range(real_ts.index[-1], periods=31, freq='D')[1:], hw_forecast_real, label='Holt-Winters Forecast', color='green')\n",
    "plt.title('Holt-Winters Forecast for MSFT')\n",
    "plt.xlabel('Date')\n",
    "plt.ylabel('Price (USD)')\n",
    "plt.legend()\n",
    "plt.show()"
   ]
  },
  {
   "cell_type": "markdown",
   "id": "fd548530",
   "metadata": {},
   "source": [
    "## LSTM Forecasting on Time Series Data\n",
    "\n",
    "Let's use an LSTM neural network for time series forecasting. This requires TensorFlow and Keras."
   ]
  },
  {
   "cell_type": "code",
   "execution_count": null,
   "id": "d943cec9",
   "metadata": {},
   "outputs": [],
   "source": [
    "import tensorflow as tf\n",
    "from tensorflow import keras\n",
    "from sklearn.preprocessing import MinMaxScaler\n",
    "\n",
    "# Prepare data for LSTM\n",
    "scaler = MinMaxScaler()\n",
    "scaled_sample = scaler.fit_transform(sample_ts.values.reshape(-1, 1))\n",
    "\n",
    "# Create sequences\n",
    "def create_sequences(data, seq_length):\n",
    "    X, y = [], []\n",
    "    for i in range(len(data) - seq_length):\n",
    "        X.append(data[i:i+seq_length])\n",
    "        y.append(data[i+seq_length])\n",
    "    return np.array(X), np.array(y)\n",
    "\n",
    "seq_length = 12\n",
    "X, y = create_sequences(scaled_sample, seq_length)\n",
    "\n",
    "# Build LSTM model\n",
    "model = keras.Sequential([\n",
    "    keras.layers.LSTM(50, activation='relu', input_shape=(seq_length, 1)),\n",
    "    keras.layers.Dense(1)\n",
    "])\n",
    "model.compile(optimizer='adam', loss='mse')\n",
    "model.fit(X, y, epochs=20, batch_size=8, verbose=0)\n",
    "\n",
    "# Forecast next 12 values\n",
    "test_input = scaled_sample[-seq_length:]\n",
    "predictions = []\n",
    "for _ in range(12):\n",
    "    pred = model.predict(test_input.reshape(1, seq_length, 1), verbose=0)\n",
    "    predictions.append(pred[0,0])\n",
    "    test_input = np.append(test_input, pred)[-seq_length:]\n",
    "lstm_forecast = scaler.inverse_transform(np.array(predictions).reshape(-1, 1)).flatten()\n",
    "\n",
    "future_dates = pd.date_range(sample_ts.index[-1] + pd.offsets.MonthEnd(1), periods=12, freq='M')\n",
    "plt.figure(figsize=(10, 5))\n",
    "plt.plot(sample_ts, label='Original')\n",
    "plt.plot(future_dates, lstm_forecast, label='LSTM Forecast', color='purple')\n",
    "plt.title('LSTM Forecast on Sample Data')\n",
    "plt.xlabel('Date')\n",
    "plt.ylabel('Value')\n",
    "plt.legend()\n",
    "plt.show()"
   ]
  },
  {
   "cell_type": "code",
   "execution_count": null,
   "id": "55dbca27",
   "metadata": {},
   "outputs": [],
   "source": [
    "# Prepare real stock data for LSTM\n",
    "scaled_real = scaler.fit_transform(real_ts.values.reshape(-1, 1))\n",
    "X_real, y_real = create_sequences(scaled_real, seq_length)\n",
    "\n",
    "# Build and train LSTM model for real data\n",
    "model_real = keras.Sequential([\n",
    "    keras.layers.LSTM(50, activation='relu', input_shape=(seq_length, 1)),\n",
    "    keras.layers.Dense(1)\n",
    "])\n",
    "model_real.compile(optimizer='adam', loss='mse')\n",
    "model_real.fit(X_real, y_real, epochs=20, batch_size=8, verbose=0)\n",
    "\n",
    "test_input_real = scaled_real[-seq_length:]\n",
    "predictions_real = []\n",
    "for _ in range(30):\n",
    "    pred = model_real.predict(test_input_real.reshape(1, seq_length, 1), verbose=0)\n",
    "    predictions_real.append(pred[0,0])\n",
    "    test_input_real = np.append(test_input_real, pred)[-seq_length:]\n",
    "lstm_forecast_real = scaler.inverse_transform(np.array(predictions_real).reshape(-1, 1)).flatten()\n",
    "\n",
    "future_dates_real = pd.date_range(real_ts.index[-1] + pd.Timedelta(days=1), periods=30, freq='D')\n",
    "plt.figure(figsize=(10, 5))\n",
    "plt.plot(real_ts, label='MSFT Close Price')\n",
    "plt.plot(future_dates_real, lstm_forecast_real, label='LSTM Forecast', color='purple')\n",
    "plt.title('LSTM Forecast for MSFT')\n",
    "plt.xlabel('Date')\n",
    "plt.ylabel('Price (USD)')\n",
    "plt.legend()\n",
    "plt.show()"
   ]
  }
 ],
 "metadata": {
  "language_info": {
   "name": "python"
  }
 },
 "nbformat": 4,
 "nbformat_minor": 5
}
